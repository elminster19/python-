{
 "cells": [
  {
   "cell_type": "code",
   "execution_count": 1,
   "metadata": {},
   "outputs": [],
   "source": [
    "a = 'heart'"
   ]
  },
  {
   "cell_type": "code",
   "execution_count": 6,
   "metadata": {},
   "outputs": [
    {
     "data": {
      "text/plain": [
       "['a', 'e', 'h', 'r', 't']"
      ]
     },
     "execution_count": 6,
     "metadata": {},
     "output_type": "execute_result"
    }
   ],
   "source": [
    "sorted(list(a))"
   ]
  },
  {
   "cell_type": "code",
   "execution_count": 7,
   "metadata": {},
   "outputs": [],
   "source": [
    "b = 'earth'"
   ]
  },
  {
   "cell_type": "code",
   "execution_count": 8,
   "metadata": {},
   "outputs": [
    {
     "data": {
      "text/plain": [
       "['a', 'e', 'h', 'r', 't']"
      ]
     },
     "execution_count": 8,
     "metadata": {},
     "output_type": "execute_result"
    }
   ],
   "source": [
    "sorted(list(b))"
   ]
  },
  {
   "cell_type": "code",
   "execution_count": 1,
   "metadata": {},
   "outputs": [],
   "source": [
    "from timeit import Timer"
   ]
  },
  {
   "cell_type": "code",
   "execution_count": 2,
   "metadata": {},
   "outputs": [
    {
     "name": "stdout",
     "output_type": "stream",
     "text": [
      "100000 ...\n",
      "200000 ...\n",
      "300000 ...\n",
      "400000 ...\n",
      "500000 ...\n",
      "600000 ...\n",
      "700000 ...\n",
      "800000 ...\n",
      "900000 ...\n",
      "1000000 ...\n",
      "1100000 ...\n",
      "1200000 ...\n",
      "1300000 ...\n",
      "1400000 ...\n",
      "1500000 ...\n",
      "1600000 ...\n",
      "1700000 ...\n",
      "1800000 ...\n",
      "1900000 ...\n",
      "2000000 ...\n"
     ]
    },
    {
     "data": {
      "image/png": "[encoded data removed]",
      "text/plain": [
       "<Figure size 432x288 with 1 Axes>"
      ]
     },
     "metadata": {
      "needs_background": "light"
     },
     "output_type": "display_data"
    }
   ],
   "source": [
    "import matplotlib.pyplot as plt \n",
    " \n",
    "t1 = Timer(\"lstp.pop(0)\", \"from __main__ import lstp\")\n",
    "t2 = Timer(\"del lstd[0]\", \"from __main__ import lstd\")\n",
    "plist, dlist = [], []\n",
    "for i in range(10**5, 2*10**6 + 1, 10**5):\n",
    "    print(i, \"...\")\n",
    "    lstp = [k for k in range(i)]\n",
    "    ptime = t1.timeit(number=1000)\n",
    "    plist.append(ptime)\n",
    "    del lstp\n",
    "    lstd = [k for k in range(i)]\n",
    "    dtime = t2.timeit(number=1000)\n",
    "    dlist.append(dtime)\n",
    "    del lstd\n",
    " \n",
    "plt.scatter(range(10**5, 2*10**6 + 1, 10**5), plist)\n",
    "plt.scatter(range(10**5, 2*10**6 + 1, 10**5), dlist)\n",
    "plt.show()"
   ]
  },
  {
   "cell_type": "code",
   "execution_count": 5,
   "metadata": {},
   "outputs": [],
   "source": [
    "import time "
   ]
  },
  {
   "cell_type": "code",
   "execution_count": 32,
   "metadata": {},
   "outputs": [],
   "source": [
    "def paixv(s1,s2): \n",
    "    alist = list(s1)\n",
    "    blist = list(s2)\n",
    "    alist.sort()\n",
    "    blist.sort()\n",
    "    pos = 0\n",
    "    matches = True\n",
    "    while pos<len(s1) and matches:\n",
    "        if alist[pos] == blist[pos]:\n",
    "            pos = pos+1\n",
    "        else:\n",
    "            matches = False\n",
    "    return matches\n",
    "   # return matches"
   ]
  },
  {
   "cell_type": "code",
   "execution_count": 14,
   "metadata": {},
   "outputs": [],
   "source": [
    "import timeit"
   ]
  },
  {
   "cell_type": "code",
   "execution_count": 33,
   "metadata": {},
   "outputs": [],
   "source": [
    "def func(s1,s2):\n",
    "    list1, list2 = list(s1), list(s2)\n",
    "    list1.sort()\n",
    "    list2.sort()\n",
    "    return list1 == list2"
   ]
  },
  {
   "cell_type": "code",
   "execution_count": 45,
   "metadata": {},
   "outputs": [
    {
     "name": "stdout",
     "output_type": "stream",
     "text": [
      "paixv 0.002284 seconds\n",
      ",func 0.001487 seconds\n"
     ]
    }
   ],
   "source": [
    "from timeit import Timer\n",
    "t1 = Timer(\"paixv('abcdef','fedcba')\",\"from __main__ import paixv\")\n",
    "t2 = Timer(\"func('abcdef','fedcba')\",\"from __main__ import func\")\n",
    "print(\"paixv %f seconds\\n,func %f seconds\"%(t1.timeit(number=1000),\n",
    "                                            t2.timeit(number=1000)))\n"
   ]
  },
  {
   "cell_type": "code",
   "execution_count": null,
   "metadata": {},
   "outputs": [],
   "source": []
  }
 ],
 "metadata": {
  "kernelspec": {
   "display_name": "new1",
   "language": "python",
   "name": "new1"
  },
  "language_info": {
   "codemirror_mode": {
    "name": "ipython",
    "version": 3
   },
   "file_extension": ".py",
   "mimetype": "text/x-python",
   "name": "python",
   "nbconvert_exporter": "python",
   "pygments_lexer": "ipython3",
   "version": "3.6.8"
  }
 },
 "nbformat": 4,
 "nbformat_minor": 4
}
